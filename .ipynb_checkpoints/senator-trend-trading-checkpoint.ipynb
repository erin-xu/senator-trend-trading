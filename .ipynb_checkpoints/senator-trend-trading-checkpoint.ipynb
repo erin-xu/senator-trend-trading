{
 "cells": [
  {
   "cell_type": "code",
   "execution_count": 1,
   "id": "665abc4f",
   "metadata": {},
   "outputs": [],
   "source": [
    "# IMPORTS\n",
    "import math\n",
    "import numpy as np\n",
    "import pandas as pd\n",
    "import datetime as dt\n",
    "import yahoo_finance as yf\n",
    "import senator_trading as st\n",
    "from matplotlib import pyplot as plt\n",
    "from sklearn.linear_model import LinearRegression"
   ]
  },
  {
   "cell_type": "code",
   "execution_count": 2,
   "id": "c572b295",
   "metadata": {},
   "outputs": [
    {
     "name": "stdout",
     "output_type": "stream",
     "text": [
      "       transaction_date disclosure_date  owner ticker  \\\n",
      "count              9460            9460   9460   9460   \n",
      "unique             1962            1119      5   1153   \n",
      "top          04/14/2020      05/08/2020  Joint     --   \n",
      "freq                148             191   3781   1872   \n",
      "\n",
      "                                        asset_description asset_type  \\\n",
      "count                                                9460       9460   \n",
      "unique                                               3176         10   \n",
      "top     This filing was disclosed via scanned PDF. Use...      Stock   \n",
      "freq                                                  466       6794   \n",
      "\n",
      "            type            amount comment              senator  \\\n",
      "count       9460              9460    9460                 9460   \n",
      "unique         5                11     288                   75   \n",
      "top     Purchase  $1,001 - $15,000      --  David A Perdue , Jr   \n",
      "freq        4608              6113    8114                 2597   \n",
      "\n",
      "                                                 ptr_link  \n",
      "count                                                9460  \n",
      "unique                                               1572  \n",
      "top     https://efdsearch.senate.gov/search/view/ptr/b...  \n",
      "freq                                                  189  \n"
     ]
    }
   ],
   "source": [
    "df = pd.read_json('https://senate-stock-watcher-data.s3-us-west-2.amazonaws.com/aggregate/all_transactions.json')\n",
    "print(df.describe())"
   ]
  },
  {
   "cell_type": "code",
   "execution_count": 3,
   "id": "f9997ea4",
   "metadata": {},
   "outputs": [
    {
     "data": {
      "text/plain": [
       "05/08/2020    191\n",
       "05/01/2020    182\n",
       "07/23/2021    133\n",
       "06/04/2015    129\n",
       "05/14/2018    127\n",
       "             ... \n",
       "02/14/2018      1\n",
       "02/04/2020      1\n",
       "02/24/2020      1\n",
       "01/18/2018      1\n",
       "07/25/2012      1\n",
       "Name: disclosure_date, Length: 1119, dtype: int64"
      ]
     },
     "execution_count": 3,
     "metadata": {},
     "output_type": "execute_result"
    }
   ],
   "source": [
    "df['disclosure_date'].value_counts()"
   ]
  },
  {
   "cell_type": "code",
   "execution_count": 4,
   "id": "cab03f18",
   "metadata": {},
   "outputs": [],
   "source": [
    "df = df.drop(columns=['owner', 'asset_description', 'asset_type', 'type', 'comment', 'senator', 'ptr_link'])"
   ]
  },
  {
   "cell_type": "code",
   "execution_count": 5,
   "id": "3d053c67",
   "metadata": {},
   "outputs": [
    {
     "name": "stdout",
     "output_type": "stream",
     "text": [
      "<class 'pandas.core.frame.DataFrame'>\n",
      "RangeIndex: 9460 entries, 0 to 9459\n",
      "Data columns (total 4 columns):\n",
      " #   Column            Non-Null Count  Dtype \n",
      "---  ------            --------------  ----- \n",
      " 0   transaction_date  9460 non-null   object\n",
      " 1   disclosure_date   9460 non-null   object\n",
      " 2   ticker            9460 non-null   object\n",
      " 3   amount            9460 non-null   object\n",
      "dtypes: object(4)\n",
      "memory usage: 295.8+ KB\n"
     ]
    }
   ],
   "source": [
    "df.info()"
   ]
  },
  {
   "cell_type": "code",
   "execution_count": null,
   "id": "9d9c367c",
   "metadata": {},
   "outputs": [],
   "source": []
  }
 ],
 "metadata": {
  "kernelspec": {
   "display_name": "Python 3 (ipykernel)",
   "language": "python",
   "name": "python3"
  },
  "language_info": {
   "codemirror_mode": {
    "name": "ipython",
    "version": 3
   },
   "file_extension": ".py",
   "mimetype": "text/x-python",
   "name": "python",
   "nbconvert_exporter": "python",
   "pygments_lexer": "ipython3",
   "version": "3.9.12"
  }
 },
 "nbformat": 4,
 "nbformat_minor": 5
}
